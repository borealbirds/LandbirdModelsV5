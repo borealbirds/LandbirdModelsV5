{
  "nbformat": 4,
  "nbformat_minor": 0,
  "metadata": {
    "colab": {
      "provenance": [],
      "authorship_tag": "ABX9TyPdn0s8iX6PlI9cre78EeeF",
      "include_colab_link": true
    },
    "kernelspec": {
      "name": "python3",
      "display_name": "Python 3"
    },
    "language_info": {
      "name": "python"
    }
  },
  "cells": [
    {
      "cell_type": "markdown",
      "metadata": {
        "id": "view-in-github",
        "colab_type": "text"
      },
      "source": [
        "<a href=\"https://colab.research.google.com/github/borealbirds/LandbirdModelsV5/blob/main/gis/Predictive_rasters/GEEextractions_ERA_Greenup.ipynb\" target=\"_parent\"><img src=\"https://colab.research.google.com/assets/colab-badge.svg\" alt=\"Open In Colab\"/></a>"
      ]
    },
    {
      "cell_type": "markdown",
      "source": [
        "# GEE extraction code\n",
        "# Anna Drake 2022\n",
        "###### ERA, MODIS Greenup, CNNL were extracted to local disks using GEE Editor. The code used to extract these layers are below #####\n",
        "\n",
        "ERA data - this is an example for 1984 MAT. total_precipitation was downloaded the same way using .select()"
      ],
      "metadata": {
        "id": "8x6TA_hDp0iI"
      }
    },
    {
      "cell_type": "code",
      "execution_count": 5,
      "metadata": {
        "colab": {
          "base_uri": "https://localhost:8080/",
          "height": 109
        },
        "id": "7-n9UIG6mdcU",
        "outputId": "167f45c0-e890-48eb-f3c3-daaee70ba8b1"
      },
      "outputs": [
        {
          "output_type": "error",
          "ename": "IndentationError",
          "evalue": "unexpected indent (<ipython-input-5-3df31323c5aa>, line 4)",
          "traceback": [
            "\u001b[0;36m  File \u001b[0;32m\"<ipython-input-5-3df31323c5aa>\"\u001b[0;36m, line \u001b[0;32m4\u001b[0m\n\u001b[0;31m    ee.Authenticate()\u001b[0m\n\u001b[0m    ^\u001b[0m\n\u001b[0;31mIndentationError\u001b[0m\u001b[0;31m:\u001b[0m unexpected indent\n"
          ]
        }
      ],
      "source": [
        "var startDate = ee.Date('1984-01-01');\n",
        "var endDate = ee.Date('1984-12-31');\n",
        "\n",
        "// Region\n",
        "var region = ee.Geometry.BBox(-169.57, 71.22,-50.39, 38.09);\n",
        "\n",
        "//\n",
        "var dataset = ee.ImageCollection(\"ECMWF/ERA5/MONTHLY\")\n",
        "                               .filterDate(startDate, endDate)\n",
        "                               .select('mean_2m_air_temperature')\n",
        "                               .mean();\n",
        "//.mean for temperatures (mean_2m_air_temperature)\n",
        "//total_precipitation\n",
        "//Map.addLayer(dataset)\n",
        "// Export\n",
        "\n",
        "Export.image.toDrive({\n",
        "  image: dataset,\n",
        "  description: 'MAT_84',\n",
        "  folder: 'ERA',\n",
        "  region: region,\n",
        "  scale: 1000,\n",
        "  crs: 'EPSG:5072',\n",
        "  maxPixels: 1e13\n",
        "});\n"
      ]
    },
    {
      "cell_type": "markdown",
      "source": [
        "MODIS Greenup and Dormancy - note that  2000 greenup was the 5-year average of Jan 2001- Jan 2006 (year extractions that are not included below). Layers were altered post-hoc in R to be Julian date - here they are coded as days since Jan 1, 1970. For 2000, layers were corrected and then averaged. Post-hoc edits are in: gis/Predictive_rasters/PredictionRastersBAM_NAM.R"
      ],
      "metadata": {
        "id": "BZDg-xGwpOJI"
      }
    },
    {
      "cell_type": "code",
      "source": [
        "\n",
        "//Setup datasets\n",
        "\n",
        "var dataset05 = ee.ImageCollection('MODIS/061/MCD12Q2').filter(ee.Filter.date('2004-01-01', '2005-01-01'));\n",
        "var Greenup04 = dataset05.select('Greenup_1').mean();\n",
        "var Dormancy04 = dataset05.select('Dormancy_1').mean();\n",
        "\n",
        "var dataset10 = ee.ImageCollection('MODIS/061/MCD12Q2').filter(ee.Filter.date('2009-01-01', '2010-01-01'));\n",
        "var Greenup09 = dataset10.select('Greenup_1').mean();\n",
        "var Dormancy09 = dataset10.select('Dormancy_1').mean();\n",
        "\n",
        "var dataset15 = ee.ImageCollection('MODIS/061/MCD12Q2').filter(ee.Filter.date('2014-01-01', '2015-01-01'));\n",
        "var Greenup14 = dataset15.select('Greenup_1').mean();\n",
        "var Dormancy14 = dataset15.select('Dormancy_1').mean();\n",
        "\n",
        "var dataset20 = ee.ImageCollection('MODIS/061/MCD12Q2').filter(ee.Filter.date('2019-01-01', '2020-01-01'));\n",
        "var Greenup19 = dataset20.select('Greenup_1').mean();\n",
        "var Dormancy19 = dataset20.select('Dormancy_1').mean();\n",
        "\n",
        "//additionally extracted 2001-2006 annual to produce the average \"2000\" layer\n",
        "\n",
        "// Region\n",
        "var region = ee.Geometry.BBox(-169.57, 71.22,-50.39, 38.09);\n",
        "\n",
        "// 2020 is the 5 year average of Jan 2001- Jan 2006\n",
        "\n",
        "Export.image.toDrive({\n",
        "image: Greenup04,\n",
        " description: 'Greenup04',\n",
        "region: region,\n",
        "scale: 500,\n",
        " maxPixels: 1e13,\n",
        " crs: 'EPSG:5072'\n",
        "});\n",
        "\n",
        "Export.image.toDrive({\n",
        "  image: Greenup09,\n",
        "  description: 'Greenup09',\n",
        "  region: region,\n",
        "  scale: 500,\n",
        "  maxPixels: 1e13,\n",
        "  crs: 'EPSG:5072'\n",
        "});\n",
        "\n",
        "Export.image.toDrive({\n",
        "  image: Greenup14,\n",
        "  description: 'Greenup14',\n",
        "  region: region,\n",
        "  scale: 500,\n",
        "  maxPixels: 1e13,\n",
        "  crs: 'EPSG:5072'\n",
        "});\n",
        "\n",
        "Export.image.toDrive({\n",
        "  image: Greenup19,\n",
        "  description: 'Greenup19',\n",
        "  region: region,\n",
        "  scale: 500,\n",
        "  maxPixels: 1e13,\n",
        "  crs: 'EPSG:5072'\n",
        "});\n",
        "\n",
        "// Dormancy\n",
        "\n",
        "Export.image.toDrive({\n",
        "image: Dormancy04,\n",
        "description: 'Dormancy04',\n",
        "region: region,\n",
        "scale: 500,\n",
        "maxPixels: 1e13,\n",
        "crs: 'EPSG:5072'\n",
        "});\n",
        "\n",
        "Export.image.toDrive({\n",
        "  image: Dormancy09,\n",
        "  description: 'Dormancy09',\n",
        "  region: region,\n",
        "  scale: 500,\n",
        "  maxPixels: 1e13,\n",
        "  crs: 'EPSG:5072'\n",
        "});\n",
        "\n",
        "Export.image.toDrive({\n",
        "  image: Dormancy14,\n",
        "  description: 'Dormancy14',\n",
        "  region: region,\n",
        "  scale: 500,\n",
        "  maxPixels: 1e13,\n",
        "  crs: 'EPSG:5072'\n",
        "});\n",
        "\n",
        "Export.image.toDrive({\n",
        "  image: Dormancy19,\n",
        "  description: 'Dormancy19',\n",
        "  region: region,\n",
        "  scale: 500,\n",
        "  maxPixels: 1e13,\n",
        "  crs: 'EPSG:5072'\n",
        "});\n"
      ],
      "metadata": {
        "id": "I6WvMOr3vUKH"
      },
      "execution_count": null,
      "outputs": []
    },
    {
      "cell_type": "markdown",
      "source": [
        "Global surface water layer used for Wetland layers -"
      ],
      "metadata": {
        "id": "GtInjmCAwSv7"
      }
    },
    {
      "cell_type": "code",
      "source": [
        "//GSW\n",
        "var occur = ee.Image('JRC/GSW1_4/GlobalSurfaceWater')\n",
        "  .select(['occurrence']);\n",
        "var season = ee.Image('JRC/GSW1_4/GlobalSurfaceWater')\n",
        "  .select(['seasonality']);\n",
        "var recur = ee.Image('JRC/GSW1_4/GlobalSurfaceWater')\n",
        "  .select(['recurrence']);\n",
        "\n",
        "\n",
        "// Region\n",
        "var region = ee.Geometry.BBox(-169.57, 71.22,-50.39, 38.09);\n",
        "\n",
        "// Set the export \"scale\" and \"crs\" parameters.\n",
        "Export.image.toDrive({\n",
        "image: occur,\n",
        "description: 'Wetland_Occur',\n",
        "region: region,\n",
        "scale: 350,\n",
        "maxPixels: 1e13,\n",
        "crs: 'EPSG:5072'\n",
        "});\n",
        "\n",
        "Export.image.toDrive({\n",
        "  image: season,\n",
        "  description: 'Wetland_seasonality',\n",
        "  region: region,\n",
        "  scale: 350,\n",
        "  maxPixels: 1e13,\n",
        "  crs: 'EPSG:5072'\n",
        "});\n",
        "\n",
        "Export.image.toDrive({\n",
        "image: recur,\n",
        "  description: 'Wetland_recur',\n",
        "  region: region,\n",
        "  scale: 350,\n",
        "  maxPixels: 1e13,\n",
        "  crs: 'EPSG:5072'\n",
        "});"
      ],
      "metadata": {
        "colab": {
          "base_uri": "https://localhost:8080/",
          "height": 109
        },
        "id": "6MhI0Is1pLbv",
        "outputId": "cb92d7c1-bc5a-4ba2-f6ec-dfdaea55918e"
      },
      "execution_count": 6,
      "outputs": [
        {
          "output_type": "error",
          "ename": "SyntaxError",
          "evalue": "invalid syntax (<ipython-input-6-217685f73a8b>, line 1)",
          "traceback": [
            "\u001b[0;36m  File \u001b[0;32m\"<ipython-input-6-217685f73a8b>\"\u001b[0;36m, line \u001b[0;32m1\u001b[0m\n\u001b[0;31m    var dataset05 = ee.ImageCollection('MODIS/061/MCD12Q2').filter(ee.Filter.date('2004-01-01', '2005-01-01'));\u001b[0m\n\u001b[0m        ^\u001b[0m\n\u001b[0;31mSyntaxError\u001b[0m\u001b[0;31m:\u001b[0m invalid syntax\n"
          ]
        }
      ]
    },
    {
      "cell_type": "markdown",
      "source": [
        "CCNL - lights at night - 1995 example"
      ],
      "metadata": {
        "id": "RdSM7BD_xxXd"
      }
    },
    {
      "cell_type": "code",
      "source": [
        "\n",
        "var dataset = ee.ImageCollection('BNU/FGS/CCNL/v1')\n",
        "                  .filter(ee.Filter.date('1995-01-01', '1995-12-31'));\n",
        "var nighttimeLights = dataset.select('b1')\n",
        "                      dataset.mean();\n",
        "\n",
        "// Region\n",
        "var region = ee.Geometry.BBox(-169.57, 71.22,-50.39, 38.09);\n",
        "\n",
        "//Set the export \"scale\" and \"crs\" parameters.\n",
        "Export.image.toDrive({\n",
        "  image: nighttimeLights,\n",
        "  description: '1995CCNL',\n",
        "  region: region,\n",
        "  scale: 1000,\n",
        "  maxPixels: 1e13,\n",
        "  crs: 'EPSG:5072'\n",
        "});"
      ],
      "metadata": {
        "id": "AD8hfanvyFl-"
      },
      "execution_count": null,
      "outputs": []
    }
  ]
}